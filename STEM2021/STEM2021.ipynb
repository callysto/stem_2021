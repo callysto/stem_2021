{
 "cells": [
  {
   "cell_type": "markdown",
   "metadata": {
    "slideshow": {
     "slide_type": "slide"
    }
   },
   "source": [
    "![Callysto.ca Banner](https://github.com/callysto/curriculum-notebooks/blob/master/callysto-notebook-banner-top.jpg?raw=true)\n",
    "\n",
    "<h1 align='center'>STEM 2021</h1>\n",
    "\n",
    "<h2 align='center'> Teaching Digital Workforce Skills in the Classroom </h2>\n",
    "\n",
    "<h3 align='center'>Laura G. Funderburk  </h3>\n",
    "<h3 align='center'>David Hay  </h3>\n",
    "<h3 align='center'>Michael Lamoureux  </h3>\n",
    "\n",
    "[@LGFunderburk](https://twitter.com/LGFunderburk)\n",
    "[@misterhay](https://twitter.com/misterhay)\n",
    "[@mxlamoureux](https://twitter.com/mxlamoureux)\n",
    "\n",
    "[Callysto.ca](https://callysto.ca) | [@callysto_canada](https://twitter.com/callysto_canada)\n",
    "\n",
    "<a href='https://creativecommons.org/licenses/by/4.0/'><img src='images/ccby.png' alt='CC BY' width='100'></a>"
   ]
  },
  {
   "cell_type": "markdown",
   "metadata": {
    "slideshow": {
     "slide_type": "subslide"
    }
   },
   "source": [
    "## Teaching Digital Workforce Skills in the Classroom\n",
    "\n",
    "Coding, computational thinking, and data science are important skills for the growing digital workforce. This includes the ability to critically analyse large sets of data and use computer to aid in this analysis. \n",
    "\n",
    "Our aim in this workshop is to give teachers practical, hands-on experience in how to introduce these skills into their classrooms by using Callysto – a federally-funded, online, curriculum-tied tool designed for Grades 5-12 students.\n"
   ]
  },
  {
   "cell_type": "markdown",
   "metadata": {
    "slideshow": {
     "slide_type": "slide"
    }
   },
   "source": [
    "## Workshop Outline\n",
    "- Who we are, what Callysto is\n",
    "- Snapshot of what teachers can do with Callysto\n",
    "    - Online resources, courses, lesson plans, workbooks\n",
    "- Hands on experience\n",
    "    - Jupyter notebooks\n",
    "    - Log onto the Callysto HUB\n",
    "    - A bit of writing, programming, data visualization\n",
    "    - Intro to Data Science\n",
    "    - Using the Callysto learning modules\n",
    "\n"
   ]
  },
  {
   "cell_type": "markdown",
   "metadata": {
    "slideshow": {
     "slide_type": "slide"
    }
   },
   "source": [
    "<h2 align='center'>About Us</h2>\n",
    "\n",
    "- Laura Guttierrez Funderburk. Data scientist and mathematician \n",
    "- David Hay. Teacher, Elk Island School District, Alberta\n",
    "- Michael Lamoureux, Faculty Professor, University of Calgary\n",
    "\n",
    "All three of us are Callysto Ambassadors, users and creaters of Callysto resources.\n",
    "<img src='images/callysto_logo.png' alt='Callysto Logo' width='80%'>\n"
   ]
  },
  {
   "cell_type": "markdown",
   "metadata": {
    "slideshow": {
     "slide_type": "slide"
    }
   },
   "source": [
    "<h2 align='center'>About the Callysto Program</h2>\n",
    "\n",
    "- Provide open educational infrastructure and learning resources\n",
    "- Focus on making computational thinking and data science/literacy available \n",
    "- Use Jupyter notebooks as main platform\n",
    "- Host teacher and student training workshops\n",
    "\n",
    "<h3 align='center'>Brought to you by</h3>\n",
    "<img src='images/callysto_partners2.png' alt='Callysto Partners' width='80%'>\n"
   ]
  },
  {
   "cell_type": "markdown",
   "metadata": {
    "slideshow": {
     "slide_type": "slide"
    }
   },
   "source": [
    "<h1 align='center'>Callysto Snapshot</h1>\n",
    "\n",
    "- Web page [Callysto.ca](https://callysto.ca)\n",
    "- Lesson plans [Callysto.ca/lesson-plans/](https://www.callysto.ca/lesson-plans/)\n",
    "- Online courses [Callysto.ca/distance-learning/](https://www.callysto.ca/distance-learning/)\n",
    "- Learning resources [Callysto.ca/learning-modules/](https://www.callysto.ca/learning-modules/)\n",
    "- Online programming [hub.callsyto.ca](https://hub.callysto.ca)\n",
    "- Starter kit [Callysto.ca/starter-kit/](https://www.callysto.ca/starter-kit/)\n"
   ]
  },
  {
   "cell_type": "markdown",
   "metadata": {
    "slideshow": {
     "slide_type": "slide"
    }
   },
   "source": [
    "<h1 align='center'> Hand's On! We are using Jupyter Notebooks! </h1>\n",
    "\n",
    "A Jupyter notebook is an online document that can include both **formatted text** and `computer code` in different “cells” or parts of the document.\n",
    "\n",
    "This slideshow presentation is itself a Jupyter notebook! (Demo it for the class.)\n",
    "\n",
    "These documents run on [Callysto Hub](https://hub.callysto.ca/) as well as [Google Colab](https://colab.research.google.com/), [IBM Watson Studio](https://dataplatform.cloud.ibm.com/docs/content/wsj/analyze-data/notebooks-parent.html), and other places.\n",
    "\n",
    "We'll be using Python code in Jupyter notebooks for data science and computational thinking.\n",
    "\n",
    "Links in this slideshow (and on Callysto.ca) create copies of Jupyter notebooks in your (and your students’) Callysto Hub accounts. This slideshow is also a Jupyter notebook."
   ]
  },
  {
   "cell_type": "markdown",
   "metadata": {
    "slideshow": {
     "slide_type": "slide"
    }
   },
   "source": [
    "## Getting started on the hub\n",
    "\n",
    "- log into the Callysto hub: \n",
    "    - got to website hub.callysto.ca (in your web browser)\n",
    "    - click on the \"red house\" to enter\n",
    "    - use your Google or MS account name and password to log in\n",
    "    - you should now see a large web document, with a list of folders and some buttons/menus at the top\n",
    "    - watch **me** for directions, ask for help if you need it"
   ]
  },
  {
   "cell_type": "markdown",
   "metadata": {
    "slideshow": {
     "slide_type": "slide"
    }
   },
   "source": [
    "## Using notebooks in your hub\n",
    "- Watch **me** for a demo\n",
    "    - Click on the **New** menu time and select **Python 3** to create a new notebook\n",
    "    - The notebook opens as a new tab in your browser\n",
    "    - Type **2+2** in a cell, click the **Run** button, to see that it computes **4**\n",
    "    - Type **print(\"Hello, world!\")** in a new cell. Click the **Run** button,\n",
    "    - You have just done your first program in the hub!"
   ]
  },
  {
   "cell_type": "markdown",
   "metadata": {
    "slideshow": {
     "slide_type": "slide"
    }
   },
   "source": [
    "## Writing text in your notebooks\n",
    "- Watch **me** for a demo\n",
    "    - In a new cell in your notebook, type some word, like ** Here is an example of text.**\n",
    "    - While the cell is **seclected** (highlighted in green), change the menu item marked **Code** to **Markdown**\n",
    "    - Click the **Run** button. The text is now formatteed.\n",
    "    - Double click the text cell and try editting the content."
   ]
  },
  {
   "cell_type": "markdown",
   "metadata": {
    "slideshow": {
     "slide_type": "slide"
    }
   },
   "source": [
    "## Nice looking text: Markdown\n",
    "\n",
    "For formatting text in notebooks, e.g. **bold** and *italics*.\n",
    "\n",
    "[Markdown Cheatsheet](https://www.ibm.com/support/knowledgecenter/SSHGWL_1.2.3/analyze-data/markd-jupyter.html)\n",
    "\n",
    "## Nice looking math: LaTeX\n",
    "\n",
    "Mathematical and scientific formatting, e.g. \n",
    "\n",
    "$m = \\frac{E}{c^2}$\n",
    "\n",
    "$6 CO_2 + 6H_2O → C_6H_12O_6 + 6 O_2$\n",
    "\n",
    "[LaTeX Cheatsheet](https://davidhamann.de/2017/06/12/latex-cheat-sheet)"
   ]
  },
  {
   "cell_type": "markdown",
   "metadata": {
    "slideshow": {
     "slide_type": "slide"
    }
   },
   "source": [
    "## The Math Equation That Tried to Stump the Internet\n",
    "$$ 8 \\div 2(2+2)$$"
   ]
  },
  {
   "cell_type": "code",
   "execution_count": 1,
   "metadata": {
    "slideshow": {
     "slide_type": "fragment"
    }
   },
   "outputs": [
    {
     "data": {
      "text/plain": [
       "16.0"
      ]
     },
     "execution_count": 1,
     "metadata": {},
     "output_type": "execute_result"
    }
   ],
   "source": [
    "8/2*(2+2)"
   ]
  },
  {
   "cell_type": "markdown",
   "metadata": {
    "slideshow": {
     "slide_type": "slide"
    }
   },
   "source": [
    "## Try a little more interesting programming.\n",
    "\n",
    "Enter the following into a code cell, and run. It will create a list of numbers and their squares. \n",
    "\n",
    "```\n",
    "for n in range(10):\n",
    "    print(n,n*n)\n",
    "```"
   ]
  },
  {
   "cell_type": "code",
   "execution_count": 2,
   "metadata": {
    "slideshow": {
     "slide_type": "fragment"
    }
   },
   "outputs": [
    {
     "name": "stdout",
     "output_type": "stream",
     "text": [
      "0 0\n",
      "1 1\n",
      "2 4\n",
      "3 9\n",
      "4 16\n",
      "5 25\n",
      "6 36\n",
      "7 49\n",
      "8 64\n",
      "9 81\n"
     ]
    }
   ],
   "source": [
    "for n in range(10):\n",
    "    print(n,n*n)"
   ]
  },
  {
   "cell_type": "markdown",
   "metadata": {
    "slideshow": {
     "slide_type": "slide"
    }
   },
   "source": [
    "## VIsualizing data: make a quick plot\n",
    "\n",
    "\n",
    "For this, we will need to **import** some code from a library. Then plot. Here is the code:\n",
    "\n",
    "```\n",
    "from matplotlib.pyplot import plot\n",
    "plot([0,1,4,9,16,25,36,49,64,81]);\n",
    "```"
   ]
  },
  {
   "cell_type": "code",
   "execution_count": 3,
   "metadata": {
    "slideshow": {
     "slide_type": "fragment"
    }
   },
   "outputs": [
    {
     "data": {
      "image/png": "[encoded data removed]",
      "text/plain": [
       "<Figure size 432x288 with 1 Axes>"
      ]
     },
     "metadata": {
      "needs_background": "light"
     },
     "output_type": "display_data"
    }
   ],
   "source": [
    "from matplotlib.pyplot import plot\n",
    "\n",
    "plot([0,1,4,9,16,25,36,49,64,81]);"
   ]
  },
  {
   "cell_type": "markdown",
   "metadata": {
    "slideshow": {
     "slide_type": "slide"
    }
   },
   "source": [
    "## Visualizing data:  from the web\n",
    "\n",
    "#### Basball tricks: pitchers using sticky goo for better fastballs\n"
   ]
  },
  {
   "cell_type": "code",
   "execution_count": 4,
   "metadata": {},
   "outputs": [
    {
     "ename": "SyntaxError",
     "evalue": "invalid syntax (<ipython-input-4-af155c15abea>, line 1)",
     "output_type": "error",
     "traceback": [
      "\u001b[0;36m  File \u001b[0;32m\"<ipython-input-4-af155c15abea>\"\u001b[0;36m, line \u001b[0;32m1\u001b[0m\n\u001b[0;31m    https://public.flourish.studio/visualisation/6501419/\u001b[0m\n\u001b[0m           ^\u001b[0m\n\u001b[0;31mSyntaxError\u001b[0m\u001b[0;31m:\u001b[0m invalid syntax\n"
     ]
    }
   ],
   "source": [
    "https://public.flourish.studio/visualisation/6501419/"
   ]
  },
  {
   "cell_type": "code",
   "execution_count": null,
   "metadata": {
    "slideshow": {
     "slide_type": "skip"
    }
   },
   "outputs": [],
   "source": [
    "from IPython.core.display import display, HTML\n",
    "astr = '<div class=\"flourish-embed flourish-chart\" data-src=\"visualisation/6501419\"><script src=\"https://public.flourish.studio/resources/embed.js\"></script></div>'"
   ]
  },
  {
   "cell_type": "code",
   "execution_count": null,
   "metadata": {
    "slideshow": {
     "slide_type": "slide"
    }
   },
   "outputs": [],
   "source": [
    "display(HTML(astr))"
   ]
  },
  {
   "cell_type": "markdown",
   "metadata": {
    "slideshow": {
     "slide_type": "slide"
    }
   },
   "source": [
    "# Intro to Data Science\n",
    "\n",
    "Data science involves obtaining and **communicating** information from (usually large) sets of observations.\n",
    "* collecting, cleaning, manipulating, visualizing, synthesizing\n",
    "* describing, diagnosing, predicting, prescribing"
   ]
  },
  {
   "cell_type": "markdown",
   "metadata": {
    "slideshow": {
     "slide_type": "slide"
    }
   },
   "source": [
    "## Why is Data Science Important?\n",
    "\n"
   ]
  },
  {
   "cell_type": "markdown",
   "metadata": {
    "slideshow": {
     "slide_type": "slide"
    }
   },
   "source": [
    "## What Does Data Science Look Like?\n",
    "\n",
    "e.g. [Gapminder animation](https://www.gapminder.org/tools/#$model$markers$bubble$encoding$frame$scale$domain@=1800&=2019;;;;;;;&chart-type=bubbles&url=v1)"
   ]
  },
  {
   "cell_type": "markdown",
   "metadata": {
    "slideshow": {
     "slide_type": "slide"
    }
   },
   "source": [
    "## How Can We Introduce Data Science?\n",
    "\n"
   ]
  },
  {
   "cell_type": "markdown",
   "metadata": {
    "slideshow": {
     "slide_type": "slide"
    }
   },
   "source": [
    "## Visualizing Data\n",
    "\n",
    "Visualizations of data help with analysis and storytelling.\n",
    "* Usually include tables and graphs\n",
    "\n",
    "In a Jupyter notebook with Python code, a graph can be as easy as:"
   ]
  },
  {
   "cell_type": "code",
   "execution_count": null,
   "metadata": {
    "slideshow": {
     "slide_type": "slide"
    }
   },
   "outputs": [],
   "source": [
    "import plotly.express as px\n",
    "px.pie(names=['left-handed', 'right-handed'], values=[3, 21], title='Handedness of People in our Class')"
   ]
  },
  {
   "cell_type": "code",
   "execution_count": null,
   "metadata": {
    "slideshow": {
     "slide_type": "slide"
    }
   },
   "outputs": [],
   "source": [
    "px.scatter(x=[1, 2, 3, 4], y=[1, 4, 9, 16])"
   ]
  },
  {
   "cell_type": "code",
   "execution_count": null,
   "metadata": {
    "slideshow": {
     "slide_type": "slide"
    }
   },
   "outputs": [],
   "source": [
    "labels = ['English','French','Aboriginal Languages','Other']\n",
    "values = [56.9,21.3,0.6,21.2]\n",
    "px.bar(x=labels, y=values, title='First Languages Spoken in Canada')"
   ]
  },
  {
   "cell_type": "markdown",
   "metadata": {
    "slideshow": {
     "slide_type": "slide"
    }
   },
   "source": [
    "## Using Online Data\n",
    "\n",
    "We can import data from webpages or other files hosted online.\n",
    "\n",
    "### Examples of Data Sources\n",
    "\n",
    "* Wikipedia\n",
    "* Gapminder\n",
    "* Statistics Canada\n",
    "* Canada Open Data\n",
    "* Alberta Open Data\n",
    " * Many cities and municipalities have open data portals"
   ]
  },
  {
   "cell_type": "code",
   "execution_count": null,
   "metadata": {
    "scrolled": true,
    "slideshow": {
     "slide_type": "slide"
    }
   },
   "outputs": [],
   "source": [
    "#url = 'https://en.wikipedia.org/wiki/List_of_Alberta_general_elections'\n",
    "url = 'https://en.wikipedia.org/wiki/List_of_British_Columbia_general_elections'\n",
    "import pandas as pd\n",
    "df = pd.read_html(url)[0]\n",
    "df.columns = df.columns.get_level_values(0) # fix the multi-index problem\n",
    "df"
   ]
  },
  {
   "cell_type": "code",
   "execution_count": null,
   "metadata": {
    "slideshow": {
     "slide_type": "subslide"
    }
   },
   "outputs": [],
   "source": [
    "px.histogram(df, x='Win.',title='Political Parties Elected in BC')"
   ]
  },
  {
   "cell_type": "markdown",
   "metadata": {
    "slideshow": {
     "slide_type": "slide"
    }
   },
   "source": [
    "### CSV Data Online"
   ]
  },
  {
   "cell_type": "code",
   "execution_count": null,
   "metadata": {
    "slideshow": {
     "slide_type": "slide"
    }
   },
   "outputs": [],
   "source": [
    "from geopy.geocoders import Nominatim\n",
    "geolocator = Nominatim(user_agent='Callysto Demonstration')\n",
    "coordinates = geolocator.geocode('Prince George, BC')\n",
    "temperature_url = 'https://climateknowledgeportal.worldbank.org/api/data/get-download-data/historical/tas/1901-2016/'+str(coordinates.latitude)+'$cckp$'+str(coordinates.longitude)+'/'+str(coordinates.latitude)+'$cckp$'+str(coordinates.longitude)\n",
    "temperatures = pd.read_csv(temperature_url)\n",
    "temperatures"
   ]
  },
  {
   "cell_type": "code",
   "execution_count": null,
   "metadata": {
    "slideshow": {
     "slide_type": "slide"
    }
   },
   "outputs": [],
   "source": [
    "px.scatter(temperatures, x=' Statistics', y='Temperature - (Celsius)', color=' Year', \n",
    "           title='Monthy Average Temperatures in Prince George from 1901-2016')"
   ]
  },
  {
   "cell_type": "code",
   "execution_count": null,
   "metadata": {
    "slideshow": {
     "slide_type": "slide"
    }
   },
   "outputs": [],
   "source": [
    "px.line(temperatures, x=' Year', y='Temperature - (Celsius)', color=' Statistics', \n",
    "       title='Monthy Average Temperatures in Prince George from 1901-2016')"
   ]
  },
  {
   "cell_type": "code",
   "execution_count": null,
   "metadata": {
    "slideshow": {
     "slide_type": "slide"
    }
   },
   "outputs": [],
   "source": [
    "px.bar(temperatures, x=' Statistics', y='Temperature - (Celsius)', animation_frame=' Year', \n",
    "      title='Temperatures in Prince George').update_layout(yaxis_range=[-30, 30])"
   ]
  },
  {
   "cell_type": "code",
   "execution_count": null,
   "metadata": {
    "slideshow": {
     "slide_type": "slide"
    }
   },
   "outputs": [],
   "source": [
    "temp_grouped = temperatures.groupby(\" Year\")\n",
    "temp_mean = temp_grouped.mean()\n",
    "temp_mean = temp_mean.reset_index()\n",
    "px.line(temp_mean, x=' Year', y='Temperature - (Celsius)',\n",
    "       title='Yearly Average Temperatures in Prince George from 1901-2016')\n",
    "#temp_mean"
   ]
  },
  {
   "cell_type": "markdown",
   "metadata": {
    "slideshow": {
     "slide_type": "slide"
    }
   },
   "source": [
    "## Data Formatting\n",
    "\n",
    "Data comes in all types, sizes, and forms. A Google search can be your friend, to help you find code that will sort out the data for you, so it is easier to use.\n",
    "\n",
    "For instance, you may find data in \"tidy\" or \"wide\" format -- see the following."
   ]
  },
  {
   "cell_type": "markdown",
   "metadata": {
    "slideshow": {
     "slide_type": "slide"
    }
   },
   "source": [
    "### Tidy (Long) Data\n",
    "\n",
    "One observation per row.\n",
    "\n",
    "Name|Assignment|Mark\n",
    "-|-|-\n",
    "Marie|Radium Report|88\n",
    "Marie|Polonium Lab|84\n",
    "Jane|Primate Report|94\n",
    "Jane|Institute Project|77\n",
    "Mae|Endeavour Launch|92\n",
    "Jennifer|Genetics Project|87\n",
    "\n",
    "### Wide Data\n",
    "\n",
    "Multiple columns for variables.\n",
    "\n",
    "Name|Science Lab|Science Report|Spelling Test|Math Worksheet|Discussion Questions\n",
    "-|-|-|-|-|-\n",
    "Ryder|80|60|90|70|80\n",
    "Marshall|60|70|70|80|90\n",
    "Skye|90|80|90|90|80\n",
    "Everest|80|90|80|70|90\n",
    "\n",
    "Data can be converted from one format to another, depending on how it is going to be visualized."
   ]
  },
  {
   "cell_type": "markdown",
   "metadata": {
    "slideshow": {
     "slide_type": "slide"
    }
   },
   "source": [
    "# Using Callysto Learning modules\n",
    "\n",
    "### Curriculum Notebooks\n",
    "\n",
    "The [Callysto](https://www.callysto.ca) project has been developing free curriculum-aligned notebooks and other resources."
   ]
  },
  {
   "cell_type": "markdown",
   "metadata": {
    "slideshow": {
     "slide_type": "slide"
    }
   },
   "source": [
    "<a href='https://www.callysto.ca/learning-modules/'><img src='images/learning_modules.png' target='_blank' alt=\"Callysto learning modules\" width='90%' /></a>"
   ]
  },
  {
   "cell_type": "markdown",
   "metadata": {
    "slideshow": {
     "slide_type": "slide"
    }
   },
   "source": [
    "## Some of our Favorite Notebooks\n",
    "\n",
    "* [Math and Sound](http://tinyurl.com/vvvw9z6)\n",
    "* [Soccer Analytics Lesson Plan](https://www.callysto.ca/wp-content/uploads/2021/05/Callysto-Lesson-on-Soccer-Analytics.pdf)\n",
    "* [Soccer Analytics Notebook](http://bit.ly/soccer-lesson-part1)\n",
    "* [Statistics Project](https://github.com/callysto/curriculum-notebooks/tree/master/Mathematics/StatisticsProject)\n",
    "* [Survive the Middle Ages](https://github.com/callysto/curriculum-notebooks/blob/master/SocialStudies/SurviveTheMiddleAges/survive-the-middle-ages.ipynb)\n",
    "* [Asthma Rates](https://github.com/callysto/curriculum-notebooks/blob/master/Health/AsthmaRates/asthma-rates.ipynb)\n",
    "* [Climate Graphs](https://github.com/callysto/curriculum-notebooks/blob/master/Science/Climatograph/climatograph.ipynb)\n",
    "* [Shakespeare and Statistics](https://github.com/callysto/curriculum-notebooks/blob/master/EnglishLanguageArts/ShakespeareStatistics/shakespeare-and-statistics.ipynb)\n",
    "* [Word Clouds](https://github.com/callysto/curriculum-notebooks/blob/master/EnglishLanguageArts/WordClouds/word-clouds.ipynb)"
   ]
  },
  {
   "cell_type": "markdown",
   "metadata": {
    "slideshow": {
     "slide_type": "slide"
    }
   },
   "source": [
    "# Data Visualizations and Interesting Problems\n",
    "\n",
    "[Weekly Data Visualizations](https://www.callysto.ca/weekly-data-visualization) are pre-made, introductory data science lessons. They are a way for students to develop critical thinking and problem solving skills. We start with a question, find an open dataset to answer the question, and then ask students to reflect.\n",
    "\n",
    "[Interesting Problems](https://www.callysto.ca/interesting-problems/) are notebooks and often videos series that demonstrate critical thinking skills, and use programming code to solve interesting problems."
   ]
  },
  {
   "cell_type": "markdown",
   "metadata": {
    "slideshow": {
     "slide_type": "slide"
    }
   },
   "source": [
    "# Hackathons\n",
    "\n",
    "Online hackathons, either facilitated or [planned yourself](https://docs.google.com/document/d/1tnHhiE554xAmMRbU9REiJZ0rkJmxtNlkkQVCFfCoowE), enable students and educators to collaborate intensely to explore data and solve problems."
   ]
  },
  {
   "cell_type": "markdown",
   "metadata": {
    "slideshow": {
     "slide_type": "slide"
    }
   },
   "source": [
    "# Introducing Data Science to Students\n",
    "\n",
    "Visualizations: [explore](https://www.youcubed.org/resource/data-talks), modify, [create](http://bit.ly/2RXTLz8)\n",
    "* Can start with Callysto resources\n",
    "* Consider \"ask three then me\"\n",
    "\n",
    "[Educator Starter Kit](https://www.callysto.ca/starter-kit)\n",
    "\n",
    "[Online courses](https://www.callysto.ca/distance-learning)\n",
    "\n",
    "[Basics of Python and Jupyter](https://hub.callysto.ca/jupyter/hub/user-redirect/git-pull?repo=https%3A%2F%2Fgithub.com%2Fcallysto%2Fpresentations&branch=master&subPath=IntroductionToJupyterAndPython/callysto-introduction-to-jupyter-and-python-1.ipynb&depth=1)\n",
    "\n",
    "[Troubleshooting](https://www.callysto.ca/troubleshooting)"
   ]
  },
  {
   "cell_type": "markdown",
   "metadata": {
    "slideshow": {
     "slide_type": "slide"
    }
   },
   "source": [
    "# Learning Programming with Turtles\n",
    "\n",
    "Another way to introduce students to Python, Jupyter, and data science.\n",
    "\n",
    "Start with Python turtles:\n",
    "* [Python Turtles student version](https://hub.callysto.ca/jupyter/hub/user-redirect/git-pull?repo=https%3A%2F%2Fgithub.com%2Fcallysto%2FTMTeachingTurtles&branch=master&subPath=TMPythonTurtles/turtles-and-python-intro-student.ipynb&depth=1)\n",
    "* [Python Turtles instructor version (key)](https://hub.callysto.ca/jupyter/hub/user-redirect/git-pull?repo=https%3A%2F%2Fgithub.com%2Fcallysto%2FTMTeachingTurtles&branch=master&subPath=TMPythonTurtles/turtles-and-python-intro-instructor.ipynb&depth=1)"
   ]
  },
  {
   "cell_type": "code",
   "execution_count": null,
   "metadata": {
    "slideshow": {
     "slide_type": "subslide"
    }
   },
   "outputs": [],
   "source": [
    "from mobilechelonian import Turtle\n",
    "t = Turtle()\n",
    "t.forward(50)\n",
    "t.right(90)\n",
    "t.penup()\n",
    "t.forward(30)"
   ]
  },
  {
   "cell_type": "markdown",
   "metadata": {
    "slideshow": {
     "slide_type": "slide"
    }
   },
   "source": [
    "## Contact\n",
    "\n",
    "[contact@callysto.ca](mailto:contact@callysto.ca) or [@callysto_canada](https://twitter.com/callysto_canada) for in-class workshops, virtual hackathons, questions, etc.\n",
    "\n",
    "Also check out [Callysto.ca](https://www.callysto.ca) and the [YouTube channel](https://www.youtube.com/channel/UCPdq1SYKA42EZBvUlNQUAng)."
   ]
  },
  {
   "cell_type": "markdown",
   "metadata": {
    "slideshow": {
     "slide_type": "slide"
    }
   },
   "source": [
    "<img src='images/callysto_logo.png' alt='Callysto Logo' width='80%'>\n",
    "<img src='images/callysto_partners2.png' alt='Callysto Partners' width='80%'>\n",
    "\n",
    "[![Callysto.ca License](https://github.com/callysto/curriculum-notebooks/blob/master/callysto-notebook-banner-bottom.jpg?raw=true)](https://github.com/callysto/curriculum-notebooks/blob/master/LICENSE.md)"
   ]
  }
 ],
 "metadata": {
  "celltoolbar": "Slideshow",
  "kernelspec": {
   "display_name": "Python 3",
   "language": "python",
   "name": "python3"
  },
  "language_info": {
   "codemirror_mode": {
    "name": "ipython",
    "version": 3
   },
   "file_extension": ".py",
   "mimetype": "text/x-python",
   "name": "python",
   "nbconvert_exporter": "python",
   "pygments_lexer": "ipython3",
   "version": "3.7.4"
  }
 },
 "nbformat": 4,
 "nbformat_minor": 4
}
